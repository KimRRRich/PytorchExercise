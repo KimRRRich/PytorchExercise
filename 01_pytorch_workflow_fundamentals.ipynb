{
  "nbformat": 4,
  "nbformat_minor": 0,
  "metadata": {
    "colab": {
      "provenance": [],
      "gpuType": "T4",
      "authorship_tag": "ABX9TyOG9Bd+5nKZGq+C46w5cFQ8",
      "include_colab_link": true
    },
    "kernelspec": {
      "name": "python3",
      "display_name": "Python 3"
    },
    "language_info": {
      "name": "python"
    },
    "accelerator": "GPU"
  },
  "cells": [
    {
      "cell_type": "markdown",
      "metadata": {
        "id": "view-in-github",
        "colab_type": "text"
      },
      "source": [
        "<a href=\"https://colab.research.google.com/github/KimRRRich/PytorchExercise/blob/main/01_pytorch_workflow_fundamentals.ipynb\" target=\"_parent\"><img src=\"https://colab.research.google.com/assets/colab-badge.svg\" alt=\"Open In Colab\"/></a>"
      ]
    },
    {
      "cell_type": "code",
      "execution_count": 5,
      "metadata": {
        "colab": {
          "base_uri": "https://localhost:8080/"
        },
        "id": "_BgypuhMKqO4",
        "outputId": "291a2dd8-70c0-487a-e087-7144927f3336"
      },
      "outputs": [
        {
          "output_type": "stream",
          "name": "stdout",
          "text": [
            "2.4.1+cu121\n"
          ]
        }
      ],
      "source": [
        "import torch\n",
        "from torch import nn\n",
        "import matplotlib.pyplot as plt\n",
        "\n",
        "print(torch.__version__)"
      ]
    },
    {
      "cell_type": "code",
      "source": [
        "# Create *known* parameters\n",
        "weight = 0.7\n",
        "bias = 0.3\n",
        "\n",
        "# Create data\n",
        "start = 0\n",
        "end = 1\n",
        "step = 0.02\n",
        "X = torch.arange(start, end, step).unsqueeze(dim=1)\n",
        "y = weight * X + bias\n",
        "\n",
        "X[:10], y[:10]"
      ],
      "metadata": {
        "colab": {
          "base_uri": "https://localhost:8080/"
        },
        "id": "uLT-r_-wMgxL",
        "outputId": "58f30d8d-6827-4250-88e8-9954f938ffc7"
      },
      "execution_count": 6,
      "outputs": [
        {
          "output_type": "execute_result",
          "data": {
            "text/plain": [
              "(tensor([[0.0000],\n",
              "         [0.0200],\n",
              "         [0.0400],\n",
              "         [0.0600],\n",
              "         [0.0800],\n",
              "         [0.1000],\n",
              "         [0.1200],\n",
              "         [0.1400],\n",
              "         [0.1600],\n",
              "         [0.1800]]),\n",
              " tensor([[0.3000],\n",
              "         [0.3140],\n",
              "         [0.3280],\n",
              "         [0.3420],\n",
              "         [0.3560],\n",
              "         [0.3700],\n",
              "         [0.3840],\n",
              "         [0.3980],\n",
              "         [0.4120],\n",
              "         [0.4260]]))"
            ]
          },
          "metadata": {},
          "execution_count": 6
        }
      ]
    },
    {
      "cell_type": "code",
      "source": [
        "# Create train/test split\n",
        "train_split = int(0.8 * len(X)) # 80% of data used for training set, 20% for testing\n",
        "X_train, y_train = X[:train_split], y[:train_split]\n",
        "X_test, y_test = X[train_split:], y[train_split:]\n",
        "\n",
        "len(X_train), len(y_train), len(X_test), len(y_test)"
      ],
      "metadata": {
        "colab": {
          "base_uri": "https://localhost:8080/"
        },
        "id": "JiJREwlYM19W",
        "outputId": "068a1172-5a25-4b05-9721-19d942bc1607"
      },
      "execution_count": 7,
      "outputs": [
        {
          "output_type": "execute_result",
          "data": {
            "text/plain": [
              "(40, 40, 10, 10)"
            ]
          },
          "metadata": {},
          "execution_count": 7
        }
      ]
    },
    {
      "cell_type": "code",
      "source": [
        "def plot_predictions(train_data=X_train,\n",
        "                     train_labels=y_train,\n",
        "                     test_data=X_test,\n",
        "                     test_labels=y_test,\n",
        "                     predictions=None):\n",
        "  plt.figure(figsize=(10,7))\n",
        "\n",
        "  plt.scatter(train_data, train_labels, c=\"b\", s=4, label=\"Training Data\")\n",
        "\n",
        "  plt.scatter(test_data, test_labels, c=\"g\", s=4, label=\"Testing Data\")\n",
        "\n",
        "  if predictions is not None:\n",
        "    plt.scatter(test_data, predictions, c=\"r\", s=4, label=\"Prediction Data\")\n",
        "\n",
        "  plt.legend(prop={\"size\":14})\n",
        "\n",
        "\n",
        "plot_predictions()\n"
      ],
      "metadata": {
        "colab": {
          "base_uri": "https://localhost:8080/",
          "height": 485
        },
        "id": "VrEl_Jp0Mqtl",
        "outputId": "342231d0-b9ab-48db-a7b2-5b427db47cf6"
      },
      "execution_count": 5,
      "outputs": [
        {
          "output_type": "display_data",
          "data": {
            "text/plain": [
              "<Figure size 1000x700 with 1 Axes>"
            ],
            "image/png": "[encoded data removed]"
          },
          "metadata": {}
        }
      ]
    },
    {
      "cell_type": "code",
      "source": [
        "class LinearRegressionModel(nn.Module):\n",
        "  def __init__(self):\n",
        "    super().__init__()\n",
        "    self.weights = nn.Parameter(torch.randn(1,dtype=torch.float),requires_grad=True)\n",
        "    self.bias = nn.Parameter(torch.randn(1,dtype=torch.float),requires_grad=True)\n",
        "  def forward(self,x):\n",
        "    return x*self.weights+self.bias\n",
        ""
      ],
      "metadata": {
        "id": "5gShG4LjOOV_"
      },
      "execution_count": 9,
      "outputs": []
    },
    {
      "cell_type": "code",
      "source": [
        "torch.manual_seed(518)\n",
        "\n",
        "model_0 = LinearRegressionModel()\n",
        "\n",
        "list(model_0.parameters())\n"
      ],
      "metadata": {
        "colab": {
          "base_uri": "https://localhost:8080/"
        },
        "id": "liQjgPoXSPXs",
        "outputId": "d508bb4e-bf1a-4ddd-b5c4-2e8b53ddba82"
      },
      "execution_count": 10,
      "outputs": [
        {
          "output_type": "execute_result",
          "data": {
            "text/plain": [
              "[Parameter containing:\n",
              " tensor([-1.0144], requires_grad=True),\n",
              " Parameter containing:\n",
              " tensor([1.2508], requires_grad=True)]"
            ]
          },
          "metadata": {},
          "execution_count": 10
        }
      ]
    },
    {
      "cell_type": "code",
      "source": [
        "print(model_0.state_dict())"
      ],
      "metadata": {
        "colab": {
          "base_uri": "https://localhost:8080/"
        },
        "id": "fTeDdkmySzio",
        "outputId": "57518516-149e-4de6-e827-486c7f15621c"
      },
      "execution_count": 11,
      "outputs": [
        {
          "output_type": "stream",
          "name": "stdout",
          "text": [
            "OrderedDict([('weights', tensor([-1.0144])), ('bias', tensor([1.2508]))])\n"
          ]
        }
      ]
    },
    {
      "cell_type": "code",
      "source": [
        "with torch.inference_mode():\n",
        "  y_preds = model_0(X_test)\n",
        "  print(model_0.weights,model_0.bias)\n",
        "  print(X_test)\n",
        "  print(y_preds)\n",
        "  print(y_test)\n",
        ""
      ],
      "metadata": {
        "colab": {
          "base_uri": "https://localhost:8080/"
        },
        "id": "8_7Tc7J5S4SD",
        "outputId": "9bb23afe-d565-4963-c7a8-9a5a6e8e908c"
      },
      "execution_count": 12,
      "outputs": [
        {
          "output_type": "stream",
          "name": "stdout",
          "text": [
            "Parameter containing:\n",
            "tensor([-1.0144], requires_grad=True) Parameter containing:\n",
            "tensor([1.2508], requires_grad=True)\n",
            "tensor([[0.8000],\n",
            "        [0.8200],\n",
            "        [0.8400],\n",
            "        [0.8600],\n",
            "        [0.8800],\n",
            "        [0.9000],\n",
            "        [0.9200],\n",
            "        [0.9400],\n",
            "        [0.9600],\n",
            "        [0.9800]])\n",
            "tensor([[0.4393],\n",
            "        [0.4190],\n",
            "        [0.3987],\n",
            "        [0.3784],\n",
            "        [0.3582],\n",
            "        [0.3379],\n",
            "        [0.3176],\n",
            "        [0.2973],\n",
            "        [0.2770],\n",
            "        [0.2567]])\n",
            "tensor([[0.8600],\n",
            "        [0.8740],\n",
            "        [0.8880],\n",
            "        [0.9020],\n",
            "        [0.9160],\n",
            "        [0.9300],\n",
            "        [0.9440],\n",
            "        [0.9580],\n",
            "        [0.9720],\n",
            "        [0.9860]])\n"
          ]
        }
      ]
    },
    {
      "cell_type": "code",
      "source": [
        "plot_predictions(predictions=y_preds)"
      ],
      "metadata": {
        "colab": {
          "base_uri": "https://localhost:8080/",
          "height": 485
        },
        "id": "4gF8CKoAUaQN",
        "outputId": "4549a13c-98fd-426e-a660-7d2fd7c9cdd3"
      },
      "execution_count": 13,
      "outputs": [
        {
          "output_type": "display_data",
          "data": {
            "text/plain": [
              "<Figure size 1000x700 with 1 Axes>"
            ],
            "image/png": "[encoded data removed]"
          },
          "metadata": {}
        }
      ]
    },
    {
      "cell_type": "code",
      "source": [
        "loss_fn = nn.L1Loss()\n",
        "\n",
        "optimizer = torch.optim.SGD(params=model_0.parameters(),lr=0.01)"
      ],
      "metadata": {
        "id": "xpI0vPnTWCNh"
      },
      "execution_count": 14,
      "outputs": []
    },
    {
      "cell_type": "code",
      "source": [
        "epochs = 2000\n",
        "\n",
        "train_loss_values = []\n",
        "test_loss_values = []\n",
        "epoch_count = []\n",
        "\n",
        "for epoch in range(epochs):\n",
        "  model_0.train()\n",
        "  y_pred = model_0(X_train)\n",
        "  loss = loss_fn(y_pred, y_train)\n",
        "  optimizer.zero_grad()\n",
        "  loss.backward()\n",
        "  optimizer.step()\n",
        "  model_0.eval()\n",
        "  with torch.inference_mode():\n",
        "    test_pred=model_0(X_test)\n",
        "    test_loss=loss_fn(test_pred,y_test.type(torch.float))\n",
        "    if epoch%10==0:\n",
        "      epoch_count.append(epoch)\n",
        "      train_loss_values.append(loss.detach().numpy())\n",
        "      test_loss_values.append(test_loss.detach().numpy())\n",
        "      # plot_predictions(predictions=y_pred)\n",
        "      print(f\"Epoch:{epoch} | MAE Train Loss:{loss} | MAE Test Loss:{test_loss}\")"
      ],
      "metadata": {
        "colab": {
          "base_uri": "https://localhost:8080/"
        },
        "id": "s-y4-lCiZKbj",
        "outputId": "608f9c41-2730-443d-a913-498d3ad1136f"
      },
      "execution_count": 20,
      "outputs": [
        {
          "output_type": "stream",
          "name": "stdout",
          "text": [
            "Epoch:0 | MAE Train Loss:0.018796546384692192 | MAE Test Loss:0.043482184410095215\n",
            "Epoch:10 | MAE Train Loss:0.01536810677498579 | MAE Test Loss:0.03520963713526726\n",
            "Epoch:20 | MAE Train Loss:0.011929512955248356 | MAE Test Loss:0.026937108486890793\n",
            "Epoch:30 | MAE Train Loss:0.008494613692164421 | MAE Test Loss:0.01935144141316414\n",
            "Epoch:40 | MAE Train Loss:0.005064693745225668 | MAE Test Loss:0.011078906245529652\n",
            "Epoch:50 | MAE Train Loss:0.002079153899103403 | MAE Test Loss:0.008915727958083153\n",
            "Epoch:60 | MAE Train Loss:0.00694663543254137 | MAE Test Loss:0.008915727958083153\n",
            "Epoch:70 | MAE Train Loss:0.00694663543254137 | MAE Test Loss:0.008915727958083153\n",
            "Epoch:80 | MAE Train Loss:0.00694663543254137 | MAE Test Loss:0.008915727958083153\n",
            "Epoch:90 | MAE Train Loss:0.00694663543254137 | MAE Test Loss:0.008915727958083153\n",
            "Epoch:100 | MAE Train Loss:0.00694663543254137 | MAE Test Loss:0.008915727958083153\n",
            "Epoch:110 | MAE Train Loss:0.00694663543254137 | MAE Test Loss:0.008915727958083153\n",
            "Epoch:120 | MAE Train Loss:0.00694663543254137 | MAE Test Loss:0.008915727958083153\n",
            "Epoch:130 | MAE Train Loss:0.00694663543254137 | MAE Test Loss:0.008915727958083153\n",
            "Epoch:140 | MAE Train Loss:0.00694663543254137 | MAE Test Loss:0.008915727958083153\n",
            "Epoch:150 | MAE Train Loss:0.00694663543254137 | MAE Test Loss:0.008915727958083153\n",
            "Epoch:160 | MAE Train Loss:0.00694663543254137 | MAE Test Loss:0.008915727958083153\n",
            "Epoch:170 | MAE Train Loss:0.00694663543254137 | MAE Test Loss:0.008915727958083153\n",
            "Epoch:180 | MAE Train Loss:0.00694663543254137 | MAE Test Loss:0.008915727958083153\n",
            "Epoch:190 | MAE Train Loss:0.00694663543254137 | MAE Test Loss:0.008915727958083153\n",
            "Epoch:200 | MAE Train Loss:0.00694663543254137 | MAE Test Loss:0.008915727958083153\n",
            "Epoch:210 | MAE Train Loss:0.00694663543254137 | MAE Test Loss:0.008915727958083153\n",
            "Epoch:220 | MAE Train Loss:0.00694663543254137 | MAE Test Loss:0.008915727958083153\n",
            "Epoch:230 | MAE Train Loss:0.00694663543254137 | MAE Test Loss:0.008915727958083153\n",
            "Epoch:240 | MAE Train Loss:0.00694663543254137 | MAE Test Loss:0.008915727958083153\n",
            "Epoch:250 | MAE Train Loss:0.00694663543254137 | MAE Test Loss:0.008915727958083153\n",
            "Epoch:260 | MAE Train Loss:0.00694663543254137 | MAE Test Loss:0.008915727958083153\n",
            "Epoch:270 | MAE Train Loss:0.00694663543254137 | MAE Test Loss:0.008915727958083153\n",
            "Epoch:280 | MAE Train Loss:0.00694663543254137 | MAE Test Loss:0.008915727958083153\n",
            "Epoch:290 | MAE Train Loss:0.00694663543254137 | MAE Test Loss:0.008915727958083153\n",
            "Epoch:300 | MAE Train Loss:0.00694663543254137 | MAE Test Loss:0.008915727958083153\n",
            "Epoch:310 | MAE Train Loss:0.00694663543254137 | MAE Test Loss:0.008915727958083153\n",
            "Epoch:320 | MAE Train Loss:0.00694663543254137 | MAE Test Loss:0.008915727958083153\n",
            "Epoch:330 | MAE Train Loss:0.00694663543254137 | MAE Test Loss:0.008915727958083153\n",
            "Epoch:340 | MAE Train Loss:0.00694663543254137 | MAE Test Loss:0.008915727958083153\n",
            "Epoch:350 | MAE Train Loss:0.00694663543254137 | MAE Test Loss:0.008915727958083153\n",
            "Epoch:360 | MAE Train Loss:0.00694663543254137 | MAE Test Loss:0.008915727958083153\n",
            "Epoch:370 | MAE Train Loss:0.00694663543254137 | MAE Test Loss:0.008915727958083153\n",
            "Epoch:380 | MAE Train Loss:0.00694663543254137 | MAE Test Loss:0.008915727958083153\n",
            "Epoch:390 | MAE Train Loss:0.00694663543254137 | MAE Test Loss:0.008915727958083153\n",
            "Epoch:400 | MAE Train Loss:0.00694663543254137 | MAE Test Loss:0.008915727958083153\n",
            "Epoch:410 | MAE Train Loss:0.00694663543254137 | MAE Test Loss:0.008915727958083153\n",
            "Epoch:420 | MAE Train Loss:0.00694663543254137 | MAE Test Loss:0.008915727958083153\n",
            "Epoch:430 | MAE Train Loss:0.00694663543254137 | MAE Test Loss:0.008915727958083153\n",
            "Epoch:440 | MAE Train Loss:0.00694663543254137 | MAE Test Loss:0.008915727958083153\n",
            "Epoch:450 | MAE Train Loss:0.00694663543254137 | MAE Test Loss:0.008915727958083153\n",
            "Epoch:460 | MAE Train Loss:0.00694663543254137 | MAE Test Loss:0.008915727958083153\n",
            "Epoch:470 | MAE Train Loss:0.00694663543254137 | MAE Test Loss:0.008915727958083153\n",
            "Epoch:480 | MAE Train Loss:0.00694663543254137 | MAE Test Loss:0.008915727958083153\n",
            "Epoch:490 | MAE Train Loss:0.00694663543254137 | MAE Test Loss:0.008915727958083153\n",
            "Epoch:500 | MAE Train Loss:0.00694663543254137 | MAE Test Loss:0.008915727958083153\n",
            "Epoch:510 | MAE Train Loss:0.00694663543254137 | MAE Test Loss:0.008915727958083153\n",
            "Epoch:520 | MAE Train Loss:0.00694663543254137 | MAE Test Loss:0.008915727958083153\n",
            "Epoch:530 | MAE Train Loss:0.00694663543254137 | MAE Test Loss:0.008915727958083153\n",
            "Epoch:540 | MAE Train Loss:0.00694663543254137 | MAE Test Loss:0.008915727958083153\n",
            "Epoch:550 | MAE Train Loss:0.00694663543254137 | MAE Test Loss:0.008915727958083153\n",
            "Epoch:560 | MAE Train Loss:0.00694663543254137 | MAE Test Loss:0.008915727958083153\n",
            "Epoch:570 | MAE Train Loss:0.00694663543254137 | MAE Test Loss:0.008915727958083153\n",
            "Epoch:580 | MAE Train Loss:0.00694663543254137 | MAE Test Loss:0.008915727958083153\n",
            "Epoch:590 | MAE Train Loss:0.00694663543254137 | MAE Test Loss:0.008915727958083153\n",
            "Epoch:600 | MAE Train Loss:0.00694663543254137 | MAE Test Loss:0.008915727958083153\n",
            "Epoch:610 | MAE Train Loss:0.00694663543254137 | MAE Test Loss:0.008915727958083153\n",
            "Epoch:620 | MAE Train Loss:0.00694663543254137 | MAE Test Loss:0.008915727958083153\n",
            "Epoch:630 | MAE Train Loss:0.00694663543254137 | MAE Test Loss:0.008915727958083153\n",
            "Epoch:640 | MAE Train Loss:0.00694663543254137 | MAE Test Loss:0.008915727958083153\n",
            "Epoch:650 | MAE Train Loss:0.00694663543254137 | MAE Test Loss:0.008915727958083153\n",
            "Epoch:660 | MAE Train Loss:0.00694663543254137 | MAE Test Loss:0.008915727958083153\n",
            "Epoch:670 | MAE Train Loss:0.00694663543254137 | MAE Test Loss:0.008915727958083153\n",
            "Epoch:680 | MAE Train Loss:0.00694663543254137 | MAE Test Loss:0.008915727958083153\n",
            "Epoch:690 | MAE Train Loss:0.00694663543254137 | MAE Test Loss:0.008915727958083153\n",
            "Epoch:700 | MAE Train Loss:0.00694663543254137 | MAE Test Loss:0.008915727958083153\n",
            "Epoch:710 | MAE Train Loss:0.00694663543254137 | MAE Test Loss:0.008915727958083153\n",
            "Epoch:720 | MAE Train Loss:0.00694663543254137 | MAE Test Loss:0.008915727958083153\n",
            "Epoch:730 | MAE Train Loss:0.00694663543254137 | MAE Test Loss:0.008915727958083153\n",
            "Epoch:740 | MAE Train Loss:0.00694663543254137 | MAE Test Loss:0.008915727958083153\n",
            "Epoch:750 | MAE Train Loss:0.00694663543254137 | MAE Test Loss:0.008915727958083153\n",
            "Epoch:760 | MAE Train Loss:0.00694663543254137 | MAE Test Loss:0.008915727958083153\n",
            "Epoch:770 | MAE Train Loss:0.00694663543254137 | MAE Test Loss:0.008915727958083153\n",
            "Epoch:780 | MAE Train Loss:0.00694663543254137 | MAE Test Loss:0.008915727958083153\n",
            "Epoch:790 | MAE Train Loss:0.00694663543254137 | MAE Test Loss:0.008915727958083153\n",
            "Epoch:800 | MAE Train Loss:0.00694663543254137 | MAE Test Loss:0.008915727958083153\n",
            "Epoch:810 | MAE Train Loss:0.00694663543254137 | MAE Test Loss:0.008915727958083153\n",
            "Epoch:820 | MAE Train Loss:0.00694663543254137 | MAE Test Loss:0.008915727958083153\n",
            "Epoch:830 | MAE Train Loss:0.00694663543254137 | MAE Test Loss:0.008915727958083153\n",
            "Epoch:840 | MAE Train Loss:0.00694663543254137 | MAE Test Loss:0.008915727958083153\n",
            "Epoch:850 | MAE Train Loss:0.00694663543254137 | MAE Test Loss:0.008915727958083153\n",
            "Epoch:860 | MAE Train Loss:0.00694663543254137 | MAE Test Loss:0.008915727958083153\n",
            "Epoch:870 | MAE Train Loss:0.00694663543254137 | MAE Test Loss:0.008915727958083153\n",
            "Epoch:880 | MAE Train Loss:0.00694663543254137 | MAE Test Loss:0.008915727958083153\n",
            "Epoch:890 | MAE Train Loss:0.00694663543254137 | MAE Test Loss:0.008915727958083153\n",
            "Epoch:900 | MAE Train Loss:0.00694663543254137 | MAE Test Loss:0.008915727958083153\n",
            "Epoch:910 | MAE Train Loss:0.00694663543254137 | MAE Test Loss:0.008915727958083153\n",
            "Epoch:920 | MAE Train Loss:0.00694663543254137 | MAE Test Loss:0.008915727958083153\n",
            "Epoch:930 | MAE Train Loss:0.00694663543254137 | MAE Test Loss:0.008915727958083153\n",
            "Epoch:940 | MAE Train Loss:0.00694663543254137 | MAE Test Loss:0.008915727958083153\n",
            "Epoch:950 | MAE Train Loss:0.00694663543254137 | MAE Test Loss:0.008915727958083153\n",
            "Epoch:960 | MAE Train Loss:0.00694663543254137 | MAE Test Loss:0.008915727958083153\n",
            "Epoch:970 | MAE Train Loss:0.00694663543254137 | MAE Test Loss:0.008915727958083153\n",
            "Epoch:980 | MAE Train Loss:0.00694663543254137 | MAE Test Loss:0.008915727958083153\n",
            "Epoch:990 | MAE Train Loss:0.00694663543254137 | MAE Test Loss:0.008915727958083153\n",
            "Epoch:1000 | MAE Train Loss:0.00694663543254137 | MAE Test Loss:0.008915727958083153\n",
            "Epoch:1010 | MAE Train Loss:0.00694663543254137 | MAE Test Loss:0.008915727958083153\n",
            "Epoch:1020 | MAE Train Loss:0.00694663543254137 | MAE Test Loss:0.008915727958083153\n",
            "Epoch:1030 | MAE Train Loss:0.00694663543254137 | MAE Test Loss:0.008915727958083153\n",
            "Epoch:1040 | MAE Train Loss:0.00694663543254137 | MAE Test Loss:0.008915727958083153\n",
            "Epoch:1050 | MAE Train Loss:0.00694663543254137 | MAE Test Loss:0.008915727958083153\n",
            "Epoch:1060 | MAE Train Loss:0.00694663543254137 | MAE Test Loss:0.008915727958083153\n",
            "Epoch:1070 | MAE Train Loss:0.00694663543254137 | MAE Test Loss:0.008915727958083153\n",
            "Epoch:1080 | MAE Train Loss:0.00694663543254137 | MAE Test Loss:0.008915727958083153\n",
            "Epoch:1090 | MAE Train Loss:0.00694663543254137 | MAE Test Loss:0.008915727958083153\n",
            "Epoch:1100 | MAE Train Loss:0.00694663543254137 | MAE Test Loss:0.008915727958083153\n",
            "Epoch:1110 | MAE Train Loss:0.00694663543254137 | MAE Test Loss:0.008915727958083153\n",
            "Epoch:1120 | MAE Train Loss:0.00694663543254137 | MAE Test Loss:0.008915727958083153\n",
            "Epoch:1130 | MAE Train Loss:0.00694663543254137 | MAE Test Loss:0.008915727958083153\n",
            "Epoch:1140 | MAE Train Loss:0.00694663543254137 | MAE Test Loss:0.008915727958083153\n",
            "Epoch:1150 | MAE Train Loss:0.00694663543254137 | MAE Test Loss:0.008915727958083153\n",
            "Epoch:1160 | MAE Train Loss:0.00694663543254137 | MAE Test Loss:0.008915727958083153\n",
            "Epoch:1170 | MAE Train Loss:0.00694663543254137 | MAE Test Loss:0.008915727958083153\n",
            "Epoch:1180 | MAE Train Loss:0.00694663543254137 | MAE Test Loss:0.008915727958083153\n",
            "Epoch:1190 | MAE Train Loss:0.00694663543254137 | MAE Test Loss:0.008915727958083153\n",
            "Epoch:1200 | MAE Train Loss:0.00694663543254137 | MAE Test Loss:0.008915727958083153\n",
            "Epoch:1210 | MAE Train Loss:0.00694663543254137 | MAE Test Loss:0.008915727958083153\n",
            "Epoch:1220 | MAE Train Loss:0.00694663543254137 | MAE Test Loss:0.008915727958083153\n",
            "Epoch:1230 | MAE Train Loss:0.00694663543254137 | MAE Test Loss:0.008915727958083153\n",
            "Epoch:1240 | MAE Train Loss:0.00694663543254137 | MAE Test Loss:0.008915727958083153\n",
            "Epoch:1250 | MAE Train Loss:0.00694663543254137 | MAE Test Loss:0.008915727958083153\n",
            "Epoch:1260 | MAE Train Loss:0.00694663543254137 | MAE Test Loss:0.008915727958083153\n",
            "Epoch:1270 | MAE Train Loss:0.00694663543254137 | MAE Test Loss:0.008915727958083153\n",
            "Epoch:1280 | MAE Train Loss:0.00694663543254137 | MAE Test Loss:0.008915727958083153\n",
            "Epoch:1290 | MAE Train Loss:0.00694663543254137 | MAE Test Loss:0.008915727958083153\n",
            "Epoch:1300 | MAE Train Loss:0.00694663543254137 | MAE Test Loss:0.008915727958083153\n",
            "Epoch:1310 | MAE Train Loss:0.00694663543254137 | MAE Test Loss:0.008915727958083153\n",
            "Epoch:1320 | MAE Train Loss:0.00694663543254137 | MAE Test Loss:0.008915727958083153\n",
            "Epoch:1330 | MAE Train Loss:0.00694663543254137 | MAE Test Loss:0.008915727958083153\n",
            "Epoch:1340 | MAE Train Loss:0.00694663543254137 | MAE Test Loss:0.008915727958083153\n",
            "Epoch:1350 | MAE Train Loss:0.00694663543254137 | MAE Test Loss:0.008915727958083153\n",
            "Epoch:1360 | MAE Train Loss:0.00694663543254137 | MAE Test Loss:0.008915727958083153\n",
            "Epoch:1370 | MAE Train Loss:0.00694663543254137 | MAE Test Loss:0.008915727958083153\n",
            "Epoch:1380 | MAE Train Loss:0.00694663543254137 | MAE Test Loss:0.008915727958083153\n",
            "Epoch:1390 | MAE Train Loss:0.00694663543254137 | MAE Test Loss:0.008915727958083153\n",
            "Epoch:1400 | MAE Train Loss:0.00694663543254137 | MAE Test Loss:0.008915727958083153\n",
            "Epoch:1410 | MAE Train Loss:0.00694663543254137 | MAE Test Loss:0.008915727958083153\n",
            "Epoch:1420 | MAE Train Loss:0.00694663543254137 | MAE Test Loss:0.008915727958083153\n",
            "Epoch:1430 | MAE Train Loss:0.00694663543254137 | MAE Test Loss:0.008915727958083153\n",
            "Epoch:1440 | MAE Train Loss:0.00694663543254137 | MAE Test Loss:0.008915727958083153\n",
            "Epoch:1450 | MAE Train Loss:0.00694663543254137 | MAE Test Loss:0.008915727958083153\n",
            "Epoch:1460 | MAE Train Loss:0.00694663543254137 | MAE Test Loss:0.008915727958083153\n",
            "Epoch:1470 | MAE Train Loss:0.00694663543254137 | MAE Test Loss:0.008915727958083153\n",
            "Epoch:1480 | MAE Train Loss:0.00694663543254137 | MAE Test Loss:0.008915727958083153\n",
            "Epoch:1490 | MAE Train Loss:0.00694663543254137 | MAE Test Loss:0.008915727958083153\n",
            "Epoch:1500 | MAE Train Loss:0.00694663543254137 | MAE Test Loss:0.008915727958083153\n",
            "Epoch:1510 | MAE Train Loss:0.00694663543254137 | MAE Test Loss:0.008915727958083153\n",
            "Epoch:1520 | MAE Train Loss:0.00694663543254137 | MAE Test Loss:0.008915727958083153\n",
            "Epoch:1530 | MAE Train Loss:0.00694663543254137 | MAE Test Loss:0.008915727958083153\n",
            "Epoch:1540 | MAE Train Loss:0.00694663543254137 | MAE Test Loss:0.008915727958083153\n",
            "Epoch:1550 | MAE Train Loss:0.00694663543254137 | MAE Test Loss:0.008915727958083153\n",
            "Epoch:1560 | MAE Train Loss:0.00694663543254137 | MAE Test Loss:0.008915727958083153\n",
            "Epoch:1570 | MAE Train Loss:0.00694663543254137 | MAE Test Loss:0.008915727958083153\n",
            "Epoch:1580 | MAE Train Loss:0.00694663543254137 | MAE Test Loss:0.008915727958083153\n",
            "Epoch:1590 | MAE Train Loss:0.00694663543254137 | MAE Test Loss:0.008915727958083153\n",
            "Epoch:1600 | MAE Train Loss:0.00694663543254137 | MAE Test Loss:0.008915727958083153\n",
            "Epoch:1610 | MAE Train Loss:0.00694663543254137 | MAE Test Loss:0.008915727958083153\n",
            "Epoch:1620 | MAE Train Loss:0.00694663543254137 | MAE Test Loss:0.008915727958083153\n",
            "Epoch:1630 | MAE Train Loss:0.00694663543254137 | MAE Test Loss:0.008915727958083153\n",
            "Epoch:1640 | MAE Train Loss:0.00694663543254137 | MAE Test Loss:0.008915727958083153\n",
            "Epoch:1650 | MAE Train Loss:0.00694663543254137 | MAE Test Loss:0.008915727958083153\n",
            "Epoch:1660 | MAE Train Loss:0.00694663543254137 | MAE Test Loss:0.008915727958083153\n",
            "Epoch:1670 | MAE Train Loss:0.00694663543254137 | MAE Test Loss:0.008915727958083153\n",
            "Epoch:1680 | MAE Train Loss:0.00694663543254137 | MAE Test Loss:0.008915727958083153\n",
            "Epoch:1690 | MAE Train Loss:0.00694663543254137 | MAE Test Loss:0.008915727958083153\n",
            "Epoch:1700 | MAE Train Loss:0.00694663543254137 | MAE Test Loss:0.008915727958083153\n",
            "Epoch:1710 | MAE Train Loss:0.00694663543254137 | MAE Test Loss:0.008915727958083153\n",
            "Epoch:1720 | MAE Train Loss:0.00694663543254137 | MAE Test Loss:0.008915727958083153\n",
            "Epoch:1730 | MAE Train Loss:0.00694663543254137 | MAE Test Loss:0.008915727958083153\n",
            "Epoch:1740 | MAE Train Loss:0.00694663543254137 | MAE Test Loss:0.008915727958083153\n",
            "Epoch:1750 | MAE Train Loss:0.00694663543254137 | MAE Test Loss:0.008915727958083153\n",
            "Epoch:1760 | MAE Train Loss:0.00694663543254137 | MAE Test Loss:0.008915727958083153\n",
            "Epoch:1770 | MAE Train Loss:0.00694663543254137 | MAE Test Loss:0.008915727958083153\n",
            "Epoch:1780 | MAE Train Loss:0.00694663543254137 | MAE Test Loss:0.008915727958083153\n",
            "Epoch:1790 | MAE Train Loss:0.00694663543254137 | MAE Test Loss:0.008915727958083153\n",
            "Epoch:1800 | MAE Train Loss:0.00694663543254137 | MAE Test Loss:0.008915727958083153\n",
            "Epoch:1810 | MAE Train Loss:0.00694663543254137 | MAE Test Loss:0.008915727958083153\n",
            "Epoch:1820 | MAE Train Loss:0.00694663543254137 | MAE Test Loss:0.008915727958083153\n",
            "Epoch:1830 | MAE Train Loss:0.00694663543254137 | MAE Test Loss:0.008915727958083153\n",
            "Epoch:1840 | MAE Train Loss:0.00694663543254137 | MAE Test Loss:0.008915727958083153\n",
            "Epoch:1850 | MAE Train Loss:0.00694663543254137 | MAE Test Loss:0.008915727958083153\n",
            "Epoch:1860 | MAE Train Loss:0.00694663543254137 | MAE Test Loss:0.008915727958083153\n",
            "Epoch:1870 | MAE Train Loss:0.00694663543254137 | MAE Test Loss:0.008915727958083153\n",
            "Epoch:1880 | MAE Train Loss:0.00694663543254137 | MAE Test Loss:0.008915727958083153\n",
            "Epoch:1890 | MAE Train Loss:0.00694663543254137 | MAE Test Loss:0.008915727958083153\n",
            "Epoch:1900 | MAE Train Loss:0.00694663543254137 | MAE Test Loss:0.008915727958083153\n",
            "Epoch:1910 | MAE Train Loss:0.00694663543254137 | MAE Test Loss:0.008915727958083153\n",
            "Epoch:1920 | MAE Train Loss:0.00694663543254137 | MAE Test Loss:0.008915727958083153\n",
            "Epoch:1930 | MAE Train Loss:0.00694663543254137 | MAE Test Loss:0.008915727958083153\n",
            "Epoch:1940 | MAE Train Loss:0.00694663543254137 | MAE Test Loss:0.008915727958083153\n",
            "Epoch:1950 | MAE Train Loss:0.00694663543254137 | MAE Test Loss:0.008915727958083153\n",
            "Epoch:1960 | MAE Train Loss:0.00694663543254137 | MAE Test Loss:0.008915727958083153\n",
            "Epoch:1970 | MAE Train Loss:0.00694663543254137 | MAE Test Loss:0.008915727958083153\n",
            "Epoch:1980 | MAE Train Loss:0.00694663543254137 | MAE Test Loss:0.008915727958083153\n",
            "Epoch:1990 | MAE Train Loss:0.00694663543254137 | MAE Test Loss:0.008915727958083153\n"
          ]
        }
      ]
    },
    {
      "cell_type": "code",
      "source": [
        "# Plot the loss curves\n",
        "plt.plot(epoch_count, train_loss_values, label=\"Train loss\")\n",
        "plt.plot(epoch_count, test_loss_values, label=\"Test loss\")\n",
        "plt.title(\"Training and test loss curves\")\n",
        "plt.ylabel(\"Loss\")\n",
        "plt.xlabel(\"Epochs\")\n",
        "plt.legend();"
      ],
      "metadata": {
        "colab": {
          "base_uri": "https://localhost:8080/",
          "height": 472
        },
        "id": "REd3jFtBglE-",
        "outputId": "9be0ffeb-b616-452b-a6dd-2a884a175a9e"
      },
      "execution_count": 21,
      "outputs": [
        {
          "output_type": "display_data",
          "data": {
            "text/plain": [
              "<Figure size 640x480 with 1 Axes>"
            ],
            "image/png": "[encoded data removed]"
          },
          "metadata": {}
        }
      ]
    },
    {
      "cell_type": "code",
      "source": [
        "# Find our model's learned parameters\n",
        "print(\"The model learned the following values for weights and bias:\")\n",
        "print(model_0.state_dict())\n",
        "print(\"\\nAnd the original values for weights and bias are:\")\n",
        "print(f\"weights: {weight}, bias: {bias}\")"
      ],
      "metadata": {
        "colab": {
          "base_uri": "https://localhost:8080/"
        },
        "id": "Bxf7X7gQhP9D",
        "outputId": "8199d162-b0c9-4e45-bd30-9b8c3c12a29f"
      },
      "execution_count": 22,
      "outputs": [
        {
          "output_type": "stream",
          "name": "stdout",
          "text": [
            "The model learned the following values for weights and bias:\n",
            "OrderedDict([('weights', tensor([0.6952])), ('bias', tensor([0.3088]))])\n",
            "\n",
            "And the original values for weights and bias are:\n",
            "weights: 0.7, bias: 0.3\n"
          ]
        }
      ]
    },
    {
      "cell_type": "code",
      "source": [
        "model_0.eval()\n",
        "with torch.inference_mode():\n",
        "  y_preds = model_0(X_test)\n",
        "  plot_predictions(predictions=y_preds)"
      ],
      "metadata": {
        "colab": {
          "base_uri": "https://localhost:8080/",
          "height": 485
        },
        "id": "88UXowi_iI2m",
        "outputId": "98736f3c-b58c-421a-a322-e3e3e0216f5f"
      },
      "execution_count": 23,
      "outputs": [
        {
          "output_type": "display_data",
          "data": {
            "text/plain": [
              "<Figure size 1000x700 with 1 Axes>"
            ],
            "image/png": "[encoded data removed]"
          },
          "metadata": {}
        }
      ]
    },
    {
      "cell_type": "code",
      "source": [
        "from pathlib import Path\n",
        "import torch\n",
        "\n",
        "MODEL_PATH = Path(\"models\")\n",
        "MODEL_PATH.mkdir(parents=True, exist_ok=True)\n",
        "\n",
        "MODEL_NAME = \"01_pytorch_workflow_model_0.pth\"\n",
        "MODEL_SAVE_PATH = MODEL_PATH / MODEL_NAME\n",
        "\n",
        "print(f\"Saving model to:{MODEL_SAVE_PATH}\")\n",
        "torch.save(obj=model_0.state_dict(),f=MODEL_SAVE_PATH)"
      ],
      "metadata": {
        "colab": {
          "base_uri": "https://localhost:8080/"
        },
        "id": "h2TRdd2fL9bA",
        "outputId": "2577151c-55b0-4310-f495-aa601edfe818"
      },
      "execution_count": 24,
      "outputs": [
        {
          "output_type": "stream",
          "name": "stdout",
          "text": [
            "Saving model to:models/01_pytorch_workflow_model_0.pth\n"
          ]
        }
      ]
    },
    {
      "cell_type": "code",
      "source": [
        "loaded_model_0 = LinearRegressionModel()\n",
        "\n",
        "loaded_model_0.load_state_dict(torch.load(MODEL_SAVE_PATH))\n",
        "\n",
        "print(f\"Loaded model:\\n{loaded_model_0}\")\n",
        "print(f\"Model on device:\\n{next(loaded_model_0.parameters()).device}\")"
      ],
      "metadata": {
        "colab": {
          "base_uri": "https://localhost:8080/"
        },
        "id": "xBkCqHVNNVBl",
        "outputId": "ea3bffdf-4daf-4ed7-ff29-bd33b63fd47e"
      },
      "execution_count": 26,
      "outputs": [
        {
          "output_type": "stream",
          "name": "stdout",
          "text": [
            "Loaded model:\n",
            "LinearRegressionModel()\n",
            "Model on device:\n",
            "cpu\n"
          ]
        },
        {
          "output_type": "stream",
          "name": "stderr",
          "text": [
            "<ipython-input-26-602f028584bd>:3: FutureWarning: You are using `torch.load` with `weights_only=False` (the current default value), which uses the default pickle module implicitly. It is possible to construct malicious pickle data which will execute arbitrary code during unpickling (See https://github.com/pytorch/pytorch/blob/main/SECURITY.md#untrusted-models for more details). In a future release, the default value for `weights_only` will be flipped to `True`. This limits the functions that could be executed during unpickling. Arbitrary objects will no longer be allowed to be loaded via this mode unless they are explicitly allowlisted by the user via `torch.serialization.add_safe_globals`. We recommend you start setting `weights_only=True` for any use case where you don't have full control of the loaded file. Please open an issue on GitHub for any issues related to this experimental feature.\n",
            "  loaded_model_0.load_state_dict(torch.load(MODEL_SAVE_PATH))\n"
          ]
        }
      ]
    },
    {
      "cell_type": "code",
      "source": [
        "# Import PyTorch and matplotlib\n",
        "import torch\n",
        "from torch import nn # nn contains all of PyTorch's building blocks for neural networks\n",
        "import matplotlib.pyplot as plt\n",
        "\n",
        "# Check PyTorch version\n",
        "torch.__version__"
      ],
      "metadata": {
        "colab": {
          "base_uri": "https://localhost:8080/",
          "height": 36
        },
        "id": "Co9j_ykHPJr4",
        "outputId": "5000139f-07b9-4a89-efff-1ac5485c2ef9"
      },
      "execution_count": 1,
      "outputs": [
        {
          "output_type": "execute_result",
          "data": {
            "text/plain": [
              "'2.4.1+cu121'"
            ],
            "application/vnd.google.colaboratory.intrinsic+json": {
              "type": "string"
            }
          },
          "metadata": {},
          "execution_count": 1
        }
      ]
    },
    {
      "cell_type": "code",
      "source": [
        "# Setup device agnostic code\n",
        "device = \"cuda\" if torch.cuda.is_available() else \"cpu\"\n",
        "print(f\"Using device: {device}\")"
      ],
      "metadata": {
        "colab": {
          "base_uri": "https://localhost:8080/"
        },
        "id": "r7mD8NFEQ3FV",
        "outputId": "4cf45ca0-e2fa-49f5-f58b-eb0f1950441e"
      },
      "execution_count": 10,
      "outputs": [
        {
          "output_type": "stream",
          "name": "stdout",
          "text": [
            "Using device: cuda\n"
          ]
        }
      ]
    },
    {
      "cell_type": "code",
      "source": [
        "# Create weight and bias\n",
        "weight = 0.7\n",
        "bias = 0.3\n",
        "\n",
        "# Create range values\n",
        "start = 0\n",
        "end = 1\n",
        "step = 0.02\n",
        "\n",
        "# Create X and y (features and labels)\n",
        "X = torch.arange(start, end, step).unsqueeze(dim=1) # without unsqueeze, errors will happen later on (shapes within linear layers)\n",
        "y = weight * X + bias\n",
        "X[:10], y[:10]"
      ],
      "metadata": {
        "colab": {
          "base_uri": "https://localhost:8080/"
        },
        "id": "7WYS1rmFPS7U",
        "outputId": "e17e4b9e-1548-4aa4-9b18-0240604ffae0"
      },
      "execution_count": 2,
      "outputs": [
        {
          "output_type": "execute_result",
          "data": {
            "text/plain": [
              "(tensor([[0.0000],\n",
              "         [0.0200],\n",
              "         [0.0400],\n",
              "         [0.0600],\n",
              "         [0.0800],\n",
              "         [0.1000],\n",
              "         [0.1200],\n",
              "         [0.1400],\n",
              "         [0.1600],\n",
              "         [0.1800]]),\n",
              " tensor([[0.3000],\n",
              "         [0.3140],\n",
              "         [0.3280],\n",
              "         [0.3420],\n",
              "         [0.3560],\n",
              "         [0.3700],\n",
              "         [0.3840],\n",
              "         [0.3980],\n",
              "         [0.4120],\n",
              "         [0.4260]]))"
            ]
          },
          "metadata": {},
          "execution_count": 2
        }
      ]
    },
    {
      "cell_type": "code",
      "source": [
        "# Split data\n",
        "train_split = int(0.8 * len(X))\n",
        "X_train, y_train = X[:train_split], y[:train_split]\n",
        "X_test, y_test = X[train_split:], y[train_split:]\n",
        "\n",
        "len(X_train), len(y_train), len(X_test), len(y_test)"
      ],
      "metadata": {
        "colab": {
          "base_uri": "https://localhost:8080/"
        },
        "id": "sQdhT4vGPVuG",
        "outputId": "1023fc0e-54f7-42f2-e181-f405f14be28e"
      },
      "execution_count": 3,
      "outputs": [
        {
          "output_type": "execute_result",
          "data": {
            "text/plain": [
              "(40, 40, 10, 10)"
            ]
          },
          "metadata": {},
          "execution_count": 3
        }
      ]
    },
    {
      "cell_type": "code",
      "source": [
        "# Note: If you've reset your runtime, this function won't work,\n",
        "# you'll have to rerun the cell above where it's instantiated.\n",
        "plot_predictions(X_train, y_train, X_test, y_test)"
      ],
      "metadata": {
        "colab": {
          "base_uri": "https://localhost:8080/",
          "height": 485
        },
        "id": "fJYRlPGjPXy4",
        "outputId": "fef62808-c010-41ec-9336-c9b4439e49f9"
      },
      "execution_count": 6,
      "outputs": [
        {
          "output_type": "display_data",
          "data": {
            "text/plain": [
              "<Figure size 1000x700 with 1 Axes>"
            ],
            "image/png": "[encoded data removed]"
          },
          "metadata": {}
        }
      ]
    },
    {
      "cell_type": "code",
      "source": [
        "class LinearRegressionModelV2(nn.Module):\n",
        "  def __init__(self):\n",
        "    super().__init__()\n",
        "    self.linear_layer = nn.Linear(in_features=1,\n",
        "                                  out_features=1)\n",
        "\n",
        "  def forward(self,x):\n",
        "    return self.linear_layer(x)\n",
        "\n",
        "\n",
        "torch.manual_seed(518)\n",
        "model_1 = LinearRegressionModelV2()\n",
        "model_1,model_1.state_dict()"
      ],
      "metadata": {
        "colab": {
          "base_uri": "https://localhost:8080/"
        },
        "id": "DsaNk5BBPgr9",
        "outputId": "22eca376-fede-433e-9815-290615d6287d"
      },
      "execution_count": 7,
      "outputs": [
        {
          "output_type": "execute_result",
          "data": {
            "text/plain": [
              "(LinearRegressionModelV2(\n",
              "   (linear_layer): Linear(in_features=1, out_features=1, bias=True)\n",
              " ),\n",
              " OrderedDict([('linear_layer.weight', tensor([[0.8396]])),\n",
              "              ('linear_layer.bias', tensor([-0.7321]))]))"
            ]
          },
          "metadata": {},
          "execution_count": 7
        }
      ]
    },
    {
      "cell_type": "code",
      "source": [
        "# Check model device\n",
        "next(model_1.parameters()).device"
      ],
      "metadata": {
        "colab": {
          "base_uri": "https://localhost:8080/"
        },
        "id": "J9tcz_zdQnDc",
        "outputId": "5685d8c2-dd6f-4f7d-c30e-1e92c619f7b1"
      },
      "execution_count": 8,
      "outputs": [
        {
          "output_type": "execute_result",
          "data": {
            "text/plain": [
              "device(type='cpu')"
            ]
          },
          "metadata": {},
          "execution_count": 8
        }
      ]
    },
    {
      "cell_type": "code",
      "source": [
        "model_1.to(device)\n",
        "# Check model device\n",
        "next(model_1.parameters()).device"
      ],
      "metadata": {
        "colab": {
          "base_uri": "https://localhost:8080/"
        },
        "id": "VJWyD6-yQp3x",
        "outputId": "8cd4a619-63d5-4686-801f-2642cb1132be"
      },
      "execution_count": 11,
      "outputs": [
        {
          "output_type": "execute_result",
          "data": {
            "text/plain": [
              "device(type='cuda', index=0)"
            ]
          },
          "metadata": {},
          "execution_count": 11
        }
      ]
    },
    {
      "cell_type": "code",
      "source": [
        "loss_fn = nn.L1Loss()\n",
        "\n",
        "optimizer = torch.optim.SGD(params=model_1.parameters(),lr=0.01)"
      ],
      "metadata": {
        "id": "YNaOoXQ9SkMz"
      },
      "execution_count": 12,
      "outputs": []
    },
    {
      "cell_type": "code",
      "source": [
        "torch.manual_seed(518)\n",
        "\n",
        "epoches = 2000\n",
        "\n",
        "X_train = X_train.to(device)\n",
        "X_test = X_test.to(device)\n",
        "y_train = y_train.to(device)\n",
        "y_test = y_test.to(device)\n",
        "\n",
        "for epoch in range(epoches):\n",
        "  model_1.train()\n",
        "\n",
        "  y_pred = model_1(X_train)\n",
        "\n",
        "  loss = loss_fn(y_pred, y_train)\n",
        "\n",
        "  optimizer.zero_grad()\n",
        "\n",
        "  loss.backward()\n",
        "\n",
        "  optimizer.step()\n",
        "\n",
        "  model_1.eval()\n",
        "\n",
        "  with torch.inference_mode():\n",
        "    test_pred = model_1(X_test)\n",
        "\n",
        "    test_loss = loss_fn(test_pred, y_test)\n",
        "\n",
        "    if(epoch % 100 == 0):\n",
        "      print(f\"Epoch:{epoch} | Train Loss:{loss} | Test Loss:{test_loss}\")"
      ],
      "metadata": {
        "colab": {
          "base_uri": "https://localhost:8080/"
        },
        "id": "yUloZ2sCS1A3",
        "outputId": "11000cb0-3f13-4970-9cca-718a1ecd4a5b"
      },
      "execution_count": 16,
      "outputs": [
        {
          "output_type": "stream",
          "name": "stdout",
          "text": [
            "Epoch:0 | Train Loss:0.009218811988830566 | Test Loss:0.000634354364592582\n",
            "Epoch:100 | Train Loss:0.009218811988830566 | Test Loss:0.000634354364592582\n",
            "Epoch:200 | Train Loss:0.009218811988830566 | Test Loss:0.000634354364592582\n",
            "Epoch:300 | Train Loss:0.009218811988830566 | Test Loss:0.000634354364592582\n",
            "Epoch:400 | Train Loss:0.009218811988830566 | Test Loss:0.000634354364592582\n",
            "Epoch:500 | Train Loss:0.009218811988830566 | Test Loss:0.000634354364592582\n",
            "Epoch:600 | Train Loss:0.009218811988830566 | Test Loss:0.000634354364592582\n",
            "Epoch:700 | Train Loss:0.009218811988830566 | Test Loss:0.000634354364592582\n",
            "Epoch:800 | Train Loss:0.009218811988830566 | Test Loss:0.000634354364592582\n",
            "Epoch:900 | Train Loss:0.009218811988830566 | Test Loss:0.000634354364592582\n",
            "Epoch:1000 | Train Loss:0.009218811988830566 | Test Loss:0.000634354364592582\n",
            "Epoch:1100 | Train Loss:0.009218811988830566 | Test Loss:0.000634354364592582\n",
            "Epoch:1200 | Train Loss:0.009218811988830566 | Test Loss:0.000634354364592582\n",
            "Epoch:1300 | Train Loss:0.009218811988830566 | Test Loss:0.000634354364592582\n",
            "Epoch:1400 | Train Loss:0.009218811988830566 | Test Loss:0.000634354364592582\n",
            "Epoch:1500 | Train Loss:0.009218811988830566 | Test Loss:0.000634354364592582\n",
            "Epoch:1600 | Train Loss:0.009218811988830566 | Test Loss:0.000634354364592582\n",
            "Epoch:1700 | Train Loss:0.009218811988830566 | Test Loss:0.000634354364592582\n",
            "Epoch:1800 | Train Loss:0.009218811988830566 | Test Loss:0.000634354364592582\n",
            "Epoch:1900 | Train Loss:0.009218811988830566 | Test Loss:0.000634354364592582\n"
          ]
        }
      ]
    },
    {
      "cell_type": "code",
      "source": [
        "# Find our model's learned parameters\n",
        "from pprint import pprint # pprint = pretty print, see: https://docs.python.org/3/library/pprint.html\n",
        "print(\"The model learned the following values for weights and bias:\")\n",
        "pprint(model_1.state_dict())\n",
        "print(\"\\nAnd the original values for weights and bias are:\")\n",
        "print(f\"weights: {weight}, bias: {bias}\")"
      ],
      "metadata": {
        "colab": {
          "base_uri": "https://localhost:8080/"
        },
        "id": "pSMKNSe4UPTs",
        "outputId": "bb298a15-7053-4374-80db-9600ca5f4b95"
      },
      "execution_count": 14,
      "outputs": [
        {
          "output_type": "stream",
          "name": "stdout",
          "text": [
            "The model learned the following values for weights and bias:\n",
            "OrderedDict([('linear_layer.weight', tensor([[0.7098]], device='cuda:0')),\n",
            "             ('linear_layer.bias', tensor([0.3054], device='cuda:0'))])\n",
            "\n",
            "And the original values for weights and bias are:\n",
            "weights: 0.7, bias: 0.3\n"
          ]
        }
      ]
    },
    {
      "cell_type": "code",
      "source": [
        "# plot_predictions(predictions=y_preds) # -> won't work... data not on CPU\n",
        "# Turn model into evaluation mode\n",
        "model_1.eval()\n",
        "\n",
        "# Make predictions on the test data\n",
        "with torch.inference_mode():\n",
        "    y_preds = model_1(X_test)\n",
        "y_preds\n",
        "# Put data on the CPU and plot it\n",
        "plot_predictions(predictions=y_preds.cpu())"
      ],
      "metadata": {
        "colab": {
          "base_uri": "https://localhost:8080/",
          "height": 485
        },
        "id": "-OMkQGOTUVPi",
        "outputId": "27b96714-f5e3-45ef-f38d-0192114ea22c"
      },
      "execution_count": 17,
      "outputs": [
        {
          "output_type": "display_data",
          "data": {
            "text/plain": [
              "<Figure size 1000x700 with 1 Axes>"
            ],
            "image/png": "[encoded data removed]"
          },
          "metadata": {}
        }
      ]
    }
  ]
}