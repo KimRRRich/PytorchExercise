{
  "nbformat": 4,
  "nbformat_minor": 0,
  "metadata": {
    "colab": {
      "provenance": [],
      "mount_file_id": "12TDaMpkSWhouhr9H1Api6johvMElABuw",
      "authorship_tag": "ABX9TyPrlmkbEsymfsN/SCEjHNzy",
      "include_colab_link": true
    },
    "kernelspec": {
      "name": "python3",
      "display_name": "Python 3"
    },
    "language_info": {
      "name": "python"
    }
  },
  "cells": [
    {
      "cell_type": "markdown",
      "metadata": {
        "id": "view-in-github",
        "colab_type": "text"
      },
      "source": [
        "<a href=\"https://colab.research.google.com/github/KimRRRich/PytorchExercise/blob/main/00_pytorch_fundamentals.ipynb\" target=\"_parent\"><img src=\"https://colab.research.google.com/assets/colab-badge.svg\" alt=\"Open In Colab\"/></a>"
      ]
    },
    {
      "cell_type": "code",
      "execution_count": 1,
      "metadata": {
        "colab": {
          "base_uri": "https://localhost:8080/",
          "height": 36
        },
        "id": "O2i7W3bDE6PJ",
        "outputId": "6b2b9b32-4310-45c1-cb4f-f6c511f2c413"
      },
      "outputs": [
        {
          "output_type": "execute_result",
          "data": {
            "text/plain": [
              "'2.4.1+cu121'"
            ],
            "application/vnd.google.colaboratory.intrinsic+json": {
              "type": "string"
            }
          },
          "metadata": {},
          "execution_count": 1
        }
      ],
      "source": [
        "import torch\n",
        "torch.__version__"
      ]
    },
    {
      "cell_type": "markdown",
      "source": [
        "scalar = torch.tensor(7)\n",
        "scalar\n",
        "print(\"scalar:\",scalar)\n",
        "print(\"scalar.ndim:\",scalar.ndim)\n",
        "print(\"scalar.shape:\",scalar.shape)"
      ],
      "metadata": {
        "id": "vnFZCW0XFf7K"
      }
    },
    {
      "cell_type": "code",
      "source": [
        "scalar.item()"
      ],
      "metadata": {
        "colab": {
          "base_uri": "https://localhost:8080/"
        },
        "id": "-_qwpaQYHxst",
        "outputId": "2d449adf-eeb5-4385-bf80-a7a63044103b"
      },
      "execution_count": 6,
      "outputs": [
        {
          "output_type": "execute_result",
          "data": {
            "text/plain": [
              "7"
            ]
          },
          "metadata": {},
          "execution_count": 6
        }
      ]
    },
    {
      "cell_type": "code",
      "source": [
        "vector = torch.tensor([7,7])\n",
        "vector\n",
        "print(\"vector:\",vector)\n",
        "print(\"vector.ndim:\",vector.ndim)\n",
        "print(\"vector.shape:\",vector.shape)"
      ],
      "metadata": {
        "colab": {
          "base_uri": "https://localhost:8080/"
        },
        "id": "xB0I2dFmIsLM",
        "outputId": "3764be49-2719-4944-d0af-08cc95ca8a33"
      },
      "execution_count": 8,
      "outputs": [
        {
          "output_type": "stream",
          "name": "stdout",
          "text": [
            "vector: tensor([7, 7])\n",
            "vector.ndim: 1\n",
            "vector.shape: torch.Size([2])\n"
          ]
        }
      ]
    },
    {
      "cell_type": "code",
      "source": [
        "martix = torch.tensor([[7,8],\n",
        "                      [9,10]])\n",
        "martix\n",
        "print(\"martix:\",martix)\n",
        "print(\"martix.ndim:\",martix.ndim)\n",
        "print(\"martix.shape:\",martix.shape)"
      ],
      "metadata": {
        "colab": {
          "base_uri": "https://localhost:8080/"
        },
        "id": "5ze_RQ4xKAYt",
        "outputId": "eeb1baed-65fc-4de7-923e-add3533b1b9a"
      },
      "execution_count": 11,
      "outputs": [
        {
          "output_type": "stream",
          "name": "stdout",
          "text": [
            "martix: tensor([[ 7,  8],\n",
            "        [ 9, 10]])\n",
            "martix.ndim: 2\n",
            "martix.shape: torch.Size([2, 2])\n"
          ]
        }
      ]
    },
    {
      "cell_type": "code",
      "source": [
        "Tensor1 = torch.tensor([[1,2,3],[3,6,9],[2,4,5]])\n",
        "Tensor1\n",
        "print(\"Tensor1:\",Tensor1)\n",
        "print(\"Tensor1.ndim:\",Tensor1.ndim)\n",
        "print(\"Tensor1.shape:\",Tensor1.shape)"
      ],
      "metadata": {
        "colab": {
          "base_uri": "https://localhost:8080/"
        },
        "id": "wJusRfCmLQNq",
        "outputId": "8d1446ec-3a10-4e44-9886-0ae2f4c843f6"
      },
      "execution_count": 13,
      "outputs": [
        {
          "output_type": "stream",
          "name": "stdout",
          "text": [
            "Tensor: tensor([[1, 2, 3],\n",
            "        [3, 6, 9],\n",
            "        [2, 4, 5]])\n",
            "Tensor.ndim: 2\n",
            "Tensor.shape: torch.Size([3, 3])\n"
          ]
        }
      ]
    },
    {
      "cell_type": "code",
      "source": [
        "Tensor2 = torch.tensor([[[1,2,3],\n",
        "                        [3,6,9],\n",
        "                        [2,4,5]],\n",
        "                      [[1,1,1],[2,2,2],[3,3,3]]])\n",
        "Tensor2\n",
        "print(\"Tensor2:\",Tensor2)\n",
        "print(\"Tensor2.ndim:\",Tensor2.ndim)\n",
        "print(\"Tensor2.shape:\",Tensor2.shape)"
      ],
      "metadata": {
        "colab": {
          "base_uri": "https://localhost:8080/"
        },
        "id": "1cevEiEPL5WG",
        "outputId": "3e9f7e84-f62a-42cd-d806-99853f86b7ac"
      },
      "execution_count": 2,
      "outputs": [
        {
          "output_type": "stream",
          "name": "stdout",
          "text": [
            "Tensor2: tensor([[[1, 2, 3],\n",
            "         [3, 6, 9],\n",
            "         [2, 4, 5]],\n",
            "\n",
            "        [[1, 1, 1],\n",
            "         [2, 2, 2],\n",
            "         [3, 3, 3]]])\n",
            "Tensor2.ndim: 3\n",
            "Tensor2.shape: torch.Size([2, 3, 3])\n"
          ]
        }
      ]
    },
    {
      "cell_type": "code",
      "source": [
        "random_tensor = torch.rand(3,4)\n",
        "random_tensor, random_tensor.dtype"
      ],
      "metadata": {
        "colab": {
          "base_uri": "https://localhost:8080/"
        },
        "id": "4Y7N6T_iMzea",
        "outputId": "c48e4899-be6f-4d50-e61e-8b0ba5d21ede"
      },
      "execution_count": 7,
      "outputs": [
        {
          "output_type": "execute_result",
          "data": {
            "text/plain": [
              "(tensor([[0.8803, 0.9315, 0.3449, 0.1785],\n",
              "         [0.0829, 0.7296, 0.6166, 0.4442],\n",
              "         [0.8714, 0.6331, 0.4767, 0.7036]]),\n",
              " torch.float32)"
            ]
          },
          "metadata": {},
          "execution_count": 7
        }
      ]
    },
    {
      "cell_type": "code",
      "source": [
        "image_size = (224,224,3)\n",
        "random_image_size_tensor = torch.rand(image_size)\n",
        "random_image_size_tensor.shape, random_image_size_tensor.ndim"
      ],
      "metadata": {
        "colab": {
          "base_uri": "https://localhost:8080/"
        },
        "id": "0cH7XU7xOyM2",
        "outputId": "6310e706-466c-458c-e755-73d8c35068f0"
      },
      "execution_count": 6,
      "outputs": [
        {
          "output_type": "execute_result",
          "data": {
            "text/plain": [
              "(torch.Size([224, 224, 3]), 3)"
            ]
          },
          "metadata": {},
          "execution_count": 6
        }
      ]
    },
    {
      "cell_type": "code",
      "source": [
        "zeros = torch.zeros(size=(3,4))\n",
        "zeros, zeros.dtype"
      ],
      "metadata": {
        "colab": {
          "base_uri": "https://localhost:8080/"
        },
        "id": "0EbNoxXoO7tv",
        "outputId": "58229830-e9a2-418d-cbdf-760fd8d93658"
      },
      "execution_count": 8,
      "outputs": [
        {
          "output_type": "execute_result",
          "data": {
            "text/plain": [
              "(tensor([[0., 0., 0., 0.],\n",
              "         [0., 0., 0., 0.],\n",
              "         [0., 0., 0., 0.]]),\n",
              " torch.float32)"
            ]
          },
          "metadata": {},
          "execution_count": 8
        }
      ]
    },
    {
      "cell_type": "code",
      "source": [
        "ones = torch.ones(size=(3,4))\n",
        "ones, ones.dtype"
      ],
      "metadata": {
        "colab": {
          "base_uri": "https://localhost:8080/"
        },
        "id": "rBiP-4FVPFCr",
        "outputId": "04159e96-1236-456c-f607-09c81646e585"
      },
      "execution_count": 9,
      "outputs": [
        {
          "output_type": "execute_result",
          "data": {
            "text/plain": [
              "(tensor([[1., 1., 1., 1.],\n",
              "         [1., 1., 1., 1.],\n",
              "         [1., 1., 1., 1.]]),\n",
              " torch.float32)"
            ]
          },
          "metadata": {},
          "execution_count": 9
        }
      ]
    },
    {
      "cell_type": "code",
      "source": [
        "zero_to_ten_range = torch.arange(start=0, end=10, step=1)\n",
        "zero_to_ten_range"
      ],
      "metadata": {
        "colab": {
          "base_uri": "https://localhost:8080/"
        },
        "id": "20KuifuSPUko",
        "outputId": "fe98656b-e11a-4330-cdc5-c88755e881cb"
      },
      "execution_count": 10,
      "outputs": [
        {
          "output_type": "execute_result",
          "data": {
            "text/plain": [
              "tensor([0, 1, 2, 3, 4, 5, 6, 7, 8, 9])"
            ]
          },
          "metadata": {},
          "execution_count": 10
        }
      ]
    },
    {
      "cell_type": "code",
      "source": [
        "ten_zeros = torch.zeros_like(zero_to_ten_range)\n",
        "ten_zeros\n",
        "\n",
        "ten_ones = torch.ones_like(zero_to_ten_range)\n",
        "ten_ones\n",
        "print(\"ten_zeros:\",ten_zeros)\n",
        "print(\"ten_ones:\",ten_ones)"
      ],
      "metadata": {
        "colab": {
          "base_uri": "https://localhost:8080/"
        },
        "id": "EGsP7oyQRCqJ",
        "outputId": "3cec4916-8673-4211-f786-7ed6fad92fc3"
      },
      "execution_count": 13,
      "outputs": [
        {
          "output_type": "stream",
          "name": "stdout",
          "text": [
            "ten_zeros: tensor([0, 0, 0, 0, 0, 0, 0, 0, 0, 0])\n",
            "ten_ones: tensor([1, 1, 1, 1, 1, 1, 1, 1, 1, 1])\n"
          ]
        }
      ]
    },
    {
      "cell_type": "code",
      "source": [
        "some_tensor = torch.rand(3,4)\n",
        "\n",
        "print(some_tensor)\n",
        "print(f\"Shape of tensor:{some_tensor.shape}\")\n",
        "print(f\"Datatype of tensor:{some_tensor.dtype}\")\n",
        "print(f\"Device tensor is stored on:{some_tensor.device}\")"
      ],
      "metadata": {
        "colab": {
          "base_uri": "https://localhost:8080/"
        },
        "id": "OV7Vz8PuRye-",
        "outputId": "4c55f208-0407-4d64-9054-6a2a1c6e1815"
      },
      "execution_count": 14,
      "outputs": [
        {
          "output_type": "stream",
          "name": "stdout",
          "text": [
            "tensor([[0.6522, 0.0447, 0.0066, 0.1116],\n",
            "        [0.1877, 0.4420, 0.6889, 0.6805],\n",
            "        [0.5887, 0.9779, 0.7879, 0.2639]])\n",
            "Shape of tensor:torch.Size([3, 4])\n",
            "Datatype of tensor:torch.float32\n",
            "Device tensor is stored on:cpu\n"
          ]
        }
      ]
    },
    {
      "cell_type": "code",
      "source": [
        "tensor = torch.tensor([1,2,3])\n",
        "tensor1 = torch.tensor([3,4,5])\n",
        "print(f\"tensor*tensor:{tensor*tensor}\")\n",
        "print(f\"tensor*tensor1:{tensor*tensor1}\")\n",
        "tmp1 = torch.matmul(tensor,tensor)\n",
        "print(f\"tensor@tensor:{tmp}\")\n",
        "tmp2 = tensor@tensor1\n",
        "print(f\"tensor@tensor1:{tmp2}\")\n",
        "\n",
        "matrix1 = torch.tensor([[1,1,1],[2,2,2]])\n",
        "matrix2 = torch.tensor([[3,3,3],[4,4,4]])\n",
        "print(f\"matrix1*matrix2:{matrix1*matrix2}\")\n",
        "print(f\"matrix1@matrix2:{matrix1@matrix2.T}\")"
      ],
      "metadata": {
        "colab": {
          "base_uri": "https://localhost:8080/"
        },
        "id": "iSRx96KBTtkE",
        "outputId": "ec5f02da-d83e-4ce5-a6d8-437c179c4377"
      },
      "execution_count": 24,
      "outputs": [
        {
          "output_type": "stream",
          "name": "stdout",
          "text": [
            "tensor*tensor:tensor([1, 4, 9])\n",
            "tensor*tensor1:tensor([ 3,  8, 15])\n",
            "tensor@tensor:14\n",
            "tensor@tensor1:26\n",
            "matrix1*matrix2:tensor([[3, 3, 3],\n",
            "        [8, 8, 8]])\n",
            "matrix1@matrix2:tensor([[ 9, 12],\n",
            "        [18, 24]])\n"
          ]
        }
      ]
    },
    {
      "cell_type": "code",
      "source": [
        "tensor1 = torch.tensor([[1.,2.],\n",
        "                        [3.,4.],\n",
        "                        [5.,6.]],dtype = torch.float32)\n",
        "\n",
        "tensor2 =  torch.tensor([[7.,8.],\n",
        "                         [9.,10.],\n",
        "                         [11.,12.]],dtype = torch.float32)\n",
        "\n",
        "torch.matmul(tensor1,tensor2.T)\n",
        "print(f\"tensor1.shape:{tensor1.shape}\")\n",
        "print(f\"tensor2.shape:{tensor2.shape}\")\n",
        "print(f\"tensor2.T.shape:{tensor2.T.shape}\")\n",
        "print(f\"torch.transpose(tensor2,0,1):{torch.transpose(tensor2,0,1)}\")"
      ],
      "metadata": {
        "colab": {
          "base_uri": "https://localhost:8080/"
        },
        "id": "Ow-bmescmUQo",
        "outputId": "6b06ca42-fe3c-4e8a-ef8c-d60629419e00"
      },
      "execution_count": 21,
      "outputs": [
        {
          "output_type": "stream",
          "name": "stdout",
          "text": [
            "tensor1.shape:torch.Size([3, 2])\n",
            "tensor2.shape:torch.Size([3, 2])\n",
            "tensor2.T.shape:torch.Size([2, 3])\n",
            "torch.transpose(tensor2,0,1):tensor([[ 7.,  9., 11.],\n",
            "        [ 8., 10., 12.]])\n"
          ]
        }
      ]
    },
    {
      "cell_type": "code",
      "source": [
        "tensor_A = torch.tensor([[1.,2.,3.],\n",
        "                        [3.,4.,4.],\n",
        "                        [5.,6.,5.],\n",
        "                         [7.,8.,6.]],dtype = torch.float32)\n",
        "torch.manual_seed(42)\n",
        "linear = torch.nn.Linear(in_features=3,out_features=6)\n",
        "x = tensor_A\n",
        "output = linear(x)\n",
        "print(f\"input shape:{x.shape}\\n\")\n",
        "print(f\"output:\\n{output}\\n\\noutput shape:{output.shape}\")"
      ],
      "metadata": {
        "colab": {
          "base_uri": "https://localhost:8080/"
        },
        "id": "5G02F1V3prWG",
        "outputId": "6a544cb9-0dd1-4143-bc05-b3adfd0b2d38"
      },
      "execution_count": 31,
      "outputs": [
        {
          "output_type": "stream",
          "name": "stdout",
          "text": [
            "input shape:torch.Size([4, 3])\n",
            "\n",
            "output:\n",
            "tensor([[0.7245, 0.7740, 1.6579, 0.8366, 1.1836, 1.4476],\n",
            "        [2.4305, 1.6983, 2.2828, 1.1012, 2.4715, 2.2601],\n",
            "        [4.1364, 2.6225, 2.9078, 1.3658, 3.7594, 3.0725],\n",
            "        [5.8424, 3.5467, 3.5327, 1.6304, 5.0472, 3.8850]],\n",
            "       grad_fn=<AddmmBackward0>)\n",
            "\n",
            "output shape:torch.Size([4, 6])\n"
          ]
        }
      ]
    },
    {
      "cell_type": "code",
      "source": [
        "x = torch.arange(0,100,10)\n",
        "print(f\"x:{x}\")\n",
        "print(f\"Min:{x.min()}\")\n",
        "print(f\"Min:{torch.min(x)}\")\n",
        "print(f\"Max:{x.max()}\")\n",
        "print(f\"Max:{torch.max(x)}\")\n",
        "print(f\"Mean:{x.type(torch.float32).mean()}\")\n",
        "print(f\"Mean:{torch.mean(x.type(torch.float32))}\")\n",
        "print(f\"Sum:{x.sum()}\")\n",
        "print(f\"Sum:{torch.sum(x)}\")"
      ],
      "metadata": {
        "colab": {
          "base_uri": "https://localhost:8080/"
        },
        "id": "_dfGDAQIrYHu",
        "outputId": "97b632af-88ec-435e-859b-d62b9a388ea2"
      },
      "execution_count": 40,
      "outputs": [
        {
          "output_type": "stream",
          "name": "stdout",
          "text": [
            "x:tensor([ 0, 10, 20, 30, 40, 50, 60, 70, 80, 90])\n",
            "Min:0\n",
            "Min:0\n",
            "Max:90\n",
            "Max:90\n",
            "Mean:45.0\n",
            "Mean:45.0\n",
            "Sum:450\n",
            "Sum:450\n"
          ]
        }
      ]
    },
    {
      "cell_type": "code",
      "source": [
        "tensor = torch.arange(10,100,10)\n",
        "print(f\"tensor:{tensor}\")\n",
        "print(f\"torch.argmin(tensor):{torch.argmin(tensor)}\")\n",
        "print(f\"tensor.argmax(tensor):{torch.argmax(tensor)}\")"
      ],
      "metadata": {
        "colab": {
          "base_uri": "https://localhost:8080/"
        },
        "id": "HLjvVYwYvj5Z",
        "outputId": "572112a7-60c4-4542-b67c-b5445cebce01"
      },
      "execution_count": 43,
      "outputs": [
        {
          "output_type": "stream",
          "name": "stdout",
          "text": [
            "tensor:tensor([10, 20, 30, 40, 50, 60, 70, 80, 90])\n",
            "torch.argmin(tensor):0\n",
            "tensor.argmax(tensor):8\n"
          ]
        }
      ]
    },
    {
      "cell_type": "code",
      "source": [
        "tensor = torch.arange(10.,100.,10.)\n",
        "print(tensor.dtype)\n",
        "tensor_16 = tensor.type(torch.float16)\n",
        "print(tensor_16.dtype)\n",
        "tensor_int8 = tensor.type(torch.int8)\n",
        "print(tensor_int8.dtype)"
      ],
      "metadata": {
        "colab": {
          "base_uri": "https://localhost:8080/"
        },
        "id": "nYKny8N3uRoo",
        "outputId": "762557b3-a384-459c-9a6b-297c3d2f9fe8"
      },
      "execution_count": 45,
      "outputs": [
        {
          "output_type": "stream",
          "name": "stdout",
          "text": [
            "torch.float32\n",
            "torch.float16\n",
            "torch.int8\n"
          ]
        }
      ]
    },
    {
      "cell_type": "code",
      "source": [
        "tensor = torch.arange(1.,9.)\n",
        "print(tensor,tensor.shape)\n",
        "tensor_reshaped = tensor.reshape(1,8)\n",
        "print(tensor_reshaped,tensor_reshaped.shape)\n",
        "tensor_view = tensor.view(1,8)\n",
        "print(tensor_view,tensor_view.shape)\n",
        "tensor_view[:,0] = 5\n",
        "tensor_view[:,1] = 6\n",
        "tensor_view[:,-1] = 0\n",
        "tensor_view[:,-2] = 1\n",
        "print(tensor,tensor.shape)"
      ],
      "metadata": {
        "colab": {
          "base_uri": "https://localhost:8080/"
        },
        "id": "xL6e5d9axsQU",
        "outputId": "9692918d-25a1-4fcb-d57c-7091be5bc87f"
      },
      "execution_count": 58,
      "outputs": [
        {
          "output_type": "stream",
          "name": "stdout",
          "text": [
            "tensor([1., 2., 3., 4., 5., 6., 7., 8.]) torch.Size([8])\n",
            "tensor([[1., 2., 3., 4., 5., 6., 7., 8.]]) torch.Size([1, 8])\n",
            "tensor([[1., 2., 3., 4., 5., 6., 7., 8.]]) torch.Size([1, 8])\n",
            "tensor([5., 6., 3., 4., 5., 6., 1., 0.]) torch.Size([8])\n"
          ]
        }
      ]
    },
    {
      "cell_type": "code",
      "source": [
        "tensor = torch.arange(1.,9.)\n",
        "tensor1= torch.arange(9.,17.)\n",
        "print(tensor,tensor.shape)\n",
        "x_stacked1 = torch.stack([tensor, tensor, tensor1], dim=0)\n",
        "print(x_stacked1,x_stacked1.shape)\n",
        "x_stacked2 = torch.stack([tensor, tensor, tensor1], dim=1)\n",
        "print(x_stacked,x_stacked.shape)"
      ],
      "metadata": {
        "colab": {
          "base_uri": "https://localhost:8080/"
        },
        "id": "Ldp3fmLIzwSV",
        "outputId": "0d600def-c54d-4889-fa0f-fb499d508b5f"
      },
      "execution_count": 67,
      "outputs": [
        {
          "output_type": "stream",
          "name": "stdout",
          "text": [
            "tensor([1., 2., 3., 4., 5., 6., 7., 8.]) torch.Size([8])\n",
            "tensor([[ 1.,  2.,  3.,  4.,  5.,  6.,  7.,  8.],\n",
            "        [ 1.,  2.,  3.,  4.,  5.,  6.,  7.,  8.],\n",
            "        [ 9., 10., 11., 12., 13., 14., 15., 16.]]) torch.Size([3, 8])\n",
            "tensor([[ 1.,  1.,  9.],\n",
            "        [ 2.,  2., 10.],\n",
            "        [ 3.,  3., 11.],\n",
            "        [ 4.,  4., 12.],\n",
            "        [ 5.,  5., 13.],\n",
            "        [ 6.,  6., 14.],\n",
            "        [ 7.,  7., 15.],\n",
            "        [ 8.,  8., 16.]]) torch.Size([8, 3])\n"
          ]
        }
      ]
    },
    {
      "cell_type": "code",
      "source": [
        "tensor = torch.arange(1.,9.)\n",
        "print(tensor,tensor.shape)\n",
        "tensor_reshaped = tensor.reshape(1,8)\n",
        "print(tensor_reshaped,tensor_reshaped.shape)\n",
        "x_squeezed = tensor.squeeze()\n",
        "print(x_squeezed,x_squeezed.shape)\n",
        "x_unsqueezed = x_squeezed.unsqueeze(dim=0)\n",
        "print(x_unsqueezed,x_unsqueezed.shape)\n",
        "x_unsqueezed = x_squeezed.unsqueeze(dim=1)\n",
        "print(x_unsqueezed,x_unsqueezed.shape)"
      ],
      "metadata": {
        "colab": {
          "base_uri": "https://localhost:8080/"
        },
        "id": "mm5FsrCl0wHn",
        "outputId": "812651df-a150-4f0b-d752-cf663c5b60d1"
      },
      "execution_count": 73,
      "outputs": [
        {
          "output_type": "stream",
          "name": "stdout",
          "text": [
            "tensor([1., 2., 3., 4., 5., 6., 7., 8.]) torch.Size([8])\n",
            "tensor([[1., 2., 3., 4., 5., 6., 7., 8.]]) torch.Size([1, 8])\n",
            "tensor([1., 2., 3., 4., 5., 6., 7., 8.]) torch.Size([8])\n",
            "tensor([[1., 2., 3., 4., 5., 6., 7., 8.]]) torch.Size([1, 8])\n",
            "tensor([[1.],\n",
            "        [2.],\n",
            "        [3.],\n",
            "        [4.],\n",
            "        [5.],\n",
            "        [6.],\n",
            "        [7.],\n",
            "        [8.]]) torch.Size([8, 1])\n"
          ]
        }
      ]
    },
    {
      "cell_type": "code",
      "source": [
        "x_original = torch.rand(224,225,3)\n",
        "x_permuted = x_original.permute(2,0,1)\n",
        "print(x_original.shape)\n",
        "print(x_permuted.shape)"
      ],
      "metadata": {
        "colab": {
          "base_uri": "https://localhost:8080/"
        },
        "id": "svAF7R521a14",
        "outputId": "b75edc2d-cf17-41ef-a64d-c333aaf12778"
      },
      "execution_count": 80,
      "outputs": [
        {
          "output_type": "stream",
          "name": "stdout",
          "text": [
            "torch.Size([224, 225, 3])\n",
            "torch.Size([3, 224, 225])\n"
          ]
        }
      ]
    },
    {
      "cell_type": "code",
      "source": [
        "x = torch.arange(1,10)\n",
        "print(x,x.shape)\n",
        "x_reshaped = x.reshape(1,3,3)\n",
        "print(x_reshaped,x_reshaped.shape)\n",
        "\n",
        "print(x_reshaped[0])\n",
        "print(x_reshaped[0][0])\n",
        "print(x_reshaped[0][0][0])\n",
        "print(x_reshaped[0][1][1])\n"
      ],
      "metadata": {
        "colab": {
          "base_uri": "https://localhost:8080/"
        },
        "id": "esefQrR55p2V",
        "outputId": "766feafc-8ace-4621-9ed6-dd82854bef5e"
      },
      "execution_count": 85,
      "outputs": [
        {
          "output_type": "stream",
          "name": "stdout",
          "text": [
            "tensor([1, 2, 3, 4, 5, 6, 7, 8, 9]) torch.Size([9])\n",
            "tensor([[[1, 2, 3],\n",
            "         [4, 5, 6],\n",
            "         [7, 8, 9]]]) torch.Size([1, 3, 3])\n",
            "tensor([[1, 2, 3],\n",
            "        [4, 5, 6],\n",
            "        [7, 8, 9]])\n",
            "tensor([1, 2, 3])\n",
            "tensor(1)\n",
            "tensor(5)\n"
          ]
        }
      ]
    }
  ]
}