{
  "nbformat": 4,
  "nbformat_minor": 0,
  "metadata": {
    "colab": {
      "provenance": [],
      "authorship_tag": "ABX9TyPCFpC5WVNydhxuvqPPZY4T",
      "include_colab_link": true
    },
    "kernelspec": {
      "name": "python3",
      "display_name": "Python 3"
    },
    "language_info": {
      "name": "python"
    }
  },
  "cells": [
    {
      "cell_type": "markdown",
      "metadata": {
        "id": "view-in-github",
        "colab_type": "text"
      },
      "source": [
        "<a href=\"https://colab.research.google.com/github/KimRRRich/PytorchExercise/blob/main/00_pytorch_fundamentals.ipynb\" target=\"_parent\"><img src=\"https://colab.research.google.com/assets/colab-badge.svg\" alt=\"Open In Colab\"/></a>"
      ]
    },
    {
      "cell_type": "code",
      "execution_count": 1,
      "metadata": {
        "colab": {
          "base_uri": "https://localhost:8080/",
          "height": 36
        },
        "id": "O2i7W3bDE6PJ",
        "outputId": "6b2b9b32-4310-45c1-cb4f-f6c511f2c413"
      },
      "outputs": [
        {
          "output_type": "execute_result",
          "data": {
            "text/plain": [
              "'2.4.1+cu121'"
            ],
            "application/vnd.google.colaboratory.intrinsic+json": {
              "type": "string"
            }
          },
          "metadata": {},
          "execution_count": 1
        }
      ],
      "source": [
        "import torch\n",
        "torch.__version__"
      ]
    },
    {
      "cell_type": "markdown",
      "source": [
        "scalar = torch.tensor(7)\n",
        "scalar\n",
        "print(\"scalar:\",scalar)\n",
        "print(\"scalar.ndim:\",scalar.ndim)\n",
        "print(\"scalar.shape:\",scalar.shape)"
      ],
      "metadata": {
        "id": "vnFZCW0XFf7K"
      }
    },
    {
      "cell_type": "code",
      "source": [
        "scalar.item()"
      ],
      "metadata": {
        "colab": {
          "base_uri": "https://localhost:8080/"
        },
        "id": "-_qwpaQYHxst",
        "outputId": "2d449adf-eeb5-4385-bf80-a7a63044103b"
      },
      "execution_count": 6,
      "outputs": [
        {
          "output_type": "execute_result",
          "data": {
            "text/plain": [
              "7"
            ]
          },
          "metadata": {},
          "execution_count": 6
        }
      ]
    },
    {
      "cell_type": "code",
      "source": [
        "vector = torch.tensor([7,7])\n",
        "vector\n",
        "print(\"vector:\",vector)\n",
        "print(\"vector.ndim:\",vector.ndim)\n",
        "print(\"vector.shape:\",vector.shape)"
      ],
      "metadata": {
        "colab": {
          "base_uri": "https://localhost:8080/"
        },
        "id": "xB0I2dFmIsLM",
        "outputId": "3764be49-2719-4944-d0af-08cc95ca8a33"
      },
      "execution_count": 8,
      "outputs": [
        {
          "output_type": "stream",
          "name": "stdout",
          "text": [
            "vector: tensor([7, 7])\n",
            "vector.ndim: 1\n",
            "vector.shape: torch.Size([2])\n"
          ]
        }
      ]
    },
    {
      "cell_type": "code",
      "source": [
        "martix = torch.tensor([[7,8],\n",
        "                      [9,10]])\n",
        "martix\n",
        "print(\"martix:\",martix)\n",
        "print(\"martix.ndim:\",martix.ndim)\n",
        "print(\"martix.shape:\",martix.shape)"
      ],
      "metadata": {
        "colab": {
          "base_uri": "https://localhost:8080/"
        },
        "id": "5ze_RQ4xKAYt",
        "outputId": "eeb1baed-65fc-4de7-923e-add3533b1b9a"
      },
      "execution_count": 11,
      "outputs": [
        {
          "output_type": "stream",
          "name": "stdout",
          "text": [
            "martix: tensor([[ 7,  8],\n",
            "        [ 9, 10]])\n",
            "martix.ndim: 2\n",
            "martix.shape: torch.Size([2, 2])\n"
          ]
        }
      ]
    },
    {
      "cell_type": "code",
      "source": [
        "Tensor1 = torch.tensor([[1,2,3],[3,6,9],[2,4,5]])\n",
        "Tensor1\n",
        "print(\"Tensor1:\",Tensor1)\n",
        "print(\"Tensor1.ndim:\",Tensor1.ndim)\n",
        "print(\"Tensor1.shape:\",Tensor1.shape)"
      ],
      "metadata": {
        "colab": {
          "base_uri": "https://localhost:8080/"
        },
        "id": "wJusRfCmLQNq",
        "outputId": "8d1446ec-3a10-4e44-9886-0ae2f4c843f6"
      },
      "execution_count": 13,
      "outputs": [
        {
          "output_type": "stream",
          "name": "stdout",
          "text": [
            "Tensor: tensor([[1, 2, 3],\n",
            "        [3, 6, 9],\n",
            "        [2, 4, 5]])\n",
            "Tensor.ndim: 2\n",
            "Tensor.shape: torch.Size([3, 3])\n"
          ]
        }
      ]
    },
    {
      "cell_type": "code",
      "source": [
        "Tensor2 = torch.tensor([[[1,2,3],\n",
        "                        [3,6,9],\n",
        "                        [2,4,5]],\n",
        "                      [[1,1,1],[2,2,2],[3,3,3]]])\n",
        "Tensor2\n",
        "print(\"Tensor2:\",Tensor2)\n",
        "print(\"Tensor2.ndim:\",Tensor2.ndim)\n",
        "print(\"Tensor2.shape:\",Tensor2.shape)"
      ],
      "metadata": {
        "colab": {
          "base_uri": "https://localhost:8080/"
        },
        "id": "1cevEiEPL5WG",
        "outputId": "3e9f7e84-f62a-42cd-d806-99853f86b7ac"
      },
      "execution_count": 2,
      "outputs": [
        {
          "output_type": "stream",
          "name": "stdout",
          "text": [
            "Tensor2: tensor([[[1, 2, 3],\n",
            "         [3, 6, 9],\n",
            "         [2, 4, 5]],\n",
            "\n",
            "        [[1, 1, 1],\n",
            "         [2, 2, 2],\n",
            "         [3, 3, 3]]])\n",
            "Tensor2.ndim: 3\n",
            "Tensor2.shape: torch.Size([2, 3, 3])\n"
          ]
        }
      ]
    },
    {
      "cell_type": "code",
      "source": [
        "random_tensor = torch.rand(3,4)\n",
        "random_tensor, random_tensor.dtype"
      ],
      "metadata": {
        "colab": {
          "base_uri": "https://localhost:8080/"
        },
        "id": "4Y7N6T_iMzea",
        "outputId": "c48e4899-be6f-4d50-e61e-8b0ba5d21ede"
      },
      "execution_count": 7,
      "outputs": [
        {
          "output_type": "execute_result",
          "data": {
            "text/plain": [
              "(tensor([[0.8803, 0.9315, 0.3449, 0.1785],\n",
              "         [0.0829, 0.7296, 0.6166, 0.4442],\n",
              "         [0.8714, 0.6331, 0.4767, 0.7036]]),\n",
              " torch.float32)"
            ]
          },
          "metadata": {},
          "execution_count": 7
        }
      ]
    },
    {
      "cell_type": "code",
      "source": [
        "image_size = (224,224,3)\n",
        "random_image_size_tensor = torch.rand(image_size)\n",
        "random_image_size_tensor.shape, random_image_size_tensor.ndim"
      ],
      "metadata": {
        "colab": {
          "base_uri": "https://localhost:8080/"
        },
        "id": "0cH7XU7xOyM2",
        "outputId": "6310e706-466c-458c-e755-73d8c35068f0"
      },
      "execution_count": 6,
      "outputs": [
        {
          "output_type": "execute_result",
          "data": {
            "text/plain": [
              "(torch.Size([224, 224, 3]), 3)"
            ]
          },
          "metadata": {},
          "execution_count": 6
        }
      ]
    },
    {
      "cell_type": "code",
      "source": [
        "zeros = torch.zeros(size=(3,4))\n",
        "zeros, zeros.dtype"
      ],
      "metadata": {
        "colab": {
          "base_uri": "https://localhost:8080/"
        },
        "id": "0EbNoxXoO7tv",
        "outputId": "58229830-e9a2-418d-cbdf-760fd8d93658"
      },
      "execution_count": 8,
      "outputs": [
        {
          "output_type": "execute_result",
          "data": {
            "text/plain": [
              "(tensor([[0., 0., 0., 0.],\n",
              "         [0., 0., 0., 0.],\n",
              "         [0., 0., 0., 0.]]),\n",
              " torch.float32)"
            ]
          },
          "metadata": {},
          "execution_count": 8
        }
      ]
    },
    {
      "cell_type": "code",
      "source": [
        "ones = torch.ones(size=(3,4))\n",
        "ones, ones.dtype"
      ],
      "metadata": {
        "colab": {
          "base_uri": "https://localhost:8080/"
        },
        "id": "rBiP-4FVPFCr",
        "outputId": "04159e96-1236-456c-f607-09c81646e585"
      },
      "execution_count": 9,
      "outputs": [
        {
          "output_type": "execute_result",
          "data": {
            "text/plain": [
              "(tensor([[1., 1., 1., 1.],\n",
              "         [1., 1., 1., 1.],\n",
              "         [1., 1., 1., 1.]]),\n",
              " torch.float32)"
            ]
          },
          "metadata": {},
          "execution_count": 9
        }
      ]
    },
    {
      "cell_type": "code",
      "source": [
        "zero_to_ten_range = torch.arange(start=0, end=10, step=1)\n",
        "zero_to_ten_range"
      ],
      "metadata": {
        "colab": {
          "base_uri": "https://localhost:8080/"
        },
        "id": "20KuifuSPUko",
        "outputId": "fe98656b-e11a-4330-cdc5-c88755e881cb"
      },
      "execution_count": 10,
      "outputs": [
        {
          "output_type": "execute_result",
          "data": {
            "text/plain": [
              "tensor([0, 1, 2, 3, 4, 5, 6, 7, 8, 9])"
            ]
          },
          "metadata": {},
          "execution_count": 10
        }
      ]
    }
  ]
}